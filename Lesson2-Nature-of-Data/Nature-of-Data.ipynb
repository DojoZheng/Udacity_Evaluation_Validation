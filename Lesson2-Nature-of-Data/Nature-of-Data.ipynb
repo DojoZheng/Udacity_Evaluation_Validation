{
 "cells": [
  {
   "cell_type": "markdown",
   "metadata": {},
   "source": [
    "# Lesson 2: Nature of Data"
   ]
  },
  {
   "cell_type": "markdown",
   "metadata": {},
   "source": [
    "## 5. Encoding using sklearn"
   ]
  },
  {
   "cell_type": "code",
   "execution_count": 1,
   "metadata": {},
   "outputs": [
    {
     "name": "stdout",
     "output_type": "stream",
     "text": [
      "    name health\n",
      "0    Ray    fit\n",
      "1   Adam   slim\n",
      "2  Jason  obese\n",
      "3  Varun    fit\n",
      "4   Xiao   slim\n",
      "\n",
      "Label Encoder:\n",
      "[0 2 1 0 2]\n",
      "[0 2 1 0 2]\n",
      "\n",
      "get_dummies:\n",
      "   fit  obese  slim\n",
      "0    1      0     0\n",
      "1    0      0     1\n",
      "2    0      1     0\n",
      "3    1      0     0\n",
      "4    0      0     1\n",
      "\n",
      "One-hot Encoder:\n",
      "[[ 1.  0.  0.]\n",
      " [ 0.  0.  1.]\n",
      " [ 0.  1.  0.]\n",
      " [ 1.  0.  0.]\n",
      " [ 0.  0.  1.]]\n"
     ]
    }
   ],
   "source": [
    "from sklearn import preprocessing\n",
    "import pandas\n",
    "\n",
    "\n",
    "# creating sample data\n",
    "sample_data = {'name': ['Ray', 'Adam', 'Jason', 'Varun', 'Xiao'],\n",
    "'health':['fit', 'slim', 'obese', 'fit', 'slim']}\n",
    "# storing sample data in the form of a dataframe\n",
    "data = pandas.DataFrame(sample_data, columns = ['name', 'health'])\n",
    "print data\n",
    "print\n",
    "\n",
    "'''\n",
    "# Mapping Relations\n",
    "fit : 0\n",
    "obese: 1\n",
    "slim: 2\n",
    "'''\n",
    "'''\n",
    "# 1. Label Encoder\n",
    "'''\n",
    "label_encoder = preprocessing.LabelEncoder()\n",
    "label_encoder.fit(data['health'])\n",
    "\n",
    "print 'Label Encoder:'\n",
    "print label_encoder.transform(data['health'])\n",
    "print label_encoder.fit_transform(data['health'])\n",
    "print\n",
    "\n",
    "'''\n",
    "# 2. One-hot Encoder\n",
    "'''\n",
    "print 'get_dummies:'\n",
    "print pandas.get_dummies(data['health'])\n",
    "print\n",
    "\n",
    "ohe = preprocessing.OneHotEncoder() # creating OneHotEncoder object\n",
    "label_encoded_data = label_encoder.fit_transform(data['health'])\n",
    "print 'One-hot Encoder:'\n",
    "print ohe.fit_transform(label_encoded_data.reshape(-1,1)).toarray()\n"
   ]
  },
  {
   "cell_type": "markdown",
   "metadata": {},
   "source": [
    "## 6. Quiz: One-Hot Encoding\n",
    "\n",
    "[The comparison between LabelEncoder and OneHotEncoder](https://blog.csdn.net/u012560212/article/details/53405338)"
   ]
  },
  {
   "cell_type": "code",
   "execution_count": 50,
   "metadata": {},
   "outputs": [
    {
     "name": "stdout",
     "output_type": "stream",
     "text": [
      "                                                Name     Sex  \\\n",
      "0                            Braund, Mr. Owen Harris    male   \n",
      "1  Cumings, Mrs. John Bradley (Florence Briggs Th...  female   \n",
      "2                             Heikkinen, Miss. Laina  female   \n",
      "3       Futrelle, Mrs. Jacques Heath (Lily May Peel)  female   \n",
      "4                           Allen, Mr. William Henry    male   \n",
      "\n",
      "             Ticket Cabin Embarked  \n",
      "0         A/5 21171   NaN        S  \n",
      "1          PC 17599   C85        C  \n",
      "2  STON/O2. 3101282   NaN        S  \n",
      "3            113803  C123        S  \n",
      "4            373450   NaN        S  \n"
     ]
    }
   ],
   "source": [
    "# In this exercise we'll load the titanic data (from Project 0)\n",
    "# And then perform one-hot encoding on the feature names\n",
    "\n",
    "import numpy as np\n",
    "import pandas as pd\n",
    "\n",
    "# Load the dataset\n",
    "X = pd.read_csv('titanic-data.csv')\n",
    "# Limit to categorical data\n",
    "X = X.select_dtypes(include=[object])\n",
    "print X.head()"
   ]
  },
  {
   "cell_type": "code",
   "execution_count": 57,
   "metadata": {},
   "outputs": [
    {
     "name": "stdout",
     "output_type": "stream",
     "text": [
      "After Labels Encoded:\n",
      "   Name  Sex  Ticket  Cabin  Embarked\n",
      "0   108    1     523      0         4\n",
      "1   190    0     596    768         2\n",
      "2   353    0     669    509         4\n",
      "3   272    0      49    742         4\n",
      "4    15    1     472    510         4\n"
     ]
    }
   ],
   "source": [
    "from sklearn.preprocessing import LabelEncoder\n",
    "from sklearn.preprocessing import OneHotEncoder\n",
    "\n",
    "# TODO: create a LabelEncoder object and fit it to each feature in X.\n",
    "# The label encoder only takes a single feature at a time!\n",
    "# for feature in X:\n",
    "#     X[feature] = le.fit_transform(X[feature])\n",
    "\n",
    "X = X.apply(LabelEncoder().fit_transform)\n",
    "print \"After Labels Encoded:\"\n",
    "print X.head()\n"
   ]
  },
  {
   "cell_type": "code",
   "execution_count": 58,
   "metadata": {},
   "outputs": [
    {
     "name": "stdout",
     "output_type": "stream",
     "text": [
      "[[ 0.  0.  0. ...,  0.  0.  1.]\n",
      " [ 0.  0.  0. ...,  1.  0.  0.]\n",
      " [ 0.  0.  0. ...,  0.  0.  1.]\n",
      " ..., \n",
      " [ 0.  0.  0. ...,  0.  0.  1.]\n",
      " [ 0.  0.  0. ...,  1.  0.  0.]\n",
      " [ 0.  0.  0. ...,  0.  1.  0.]]\n"
     ]
    }
   ],
   "source": [
    "# TODO: create a OneHotEncoder object, and fit it to all of X.\n",
    "enc = OneHotEncoder() #no fitting here, happens during the transfomartion\n",
    "\n",
    "#TODO: transform the categorical titanic data, and store the transformed labels in the variable `onehotlabels`\n",
    "onehotlabels = enc.fit_transform(X) #fit and transform in one step\n",
    "print onehotlabels.toarray()"
   ]
  },
  {
   "cell_type": "code",
   "execution_count": null,
   "metadata": {},
   "outputs": [],
   "source": []
  }
 ],
 "metadata": {
  "kernelspec": {
   "display_name": "Python 2",
   "language": "python",
   "name": "python2"
  },
  "language_info": {
   "codemirror_mode": {
    "name": "ipython",
    "version": 2
   },
   "file_extension": ".py",
   "mimetype": "text/x-python",
   "name": "python",
   "nbconvert_exporter": "python",
   "pygments_lexer": "ipython2",
   "version": "2.7.14"
  }
 },
 "nbformat": 4,
 "nbformat_minor": 2
}
